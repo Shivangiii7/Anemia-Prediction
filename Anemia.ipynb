{
 "cells": [
  {
   "cell_type": "code",
   "execution_count": null,
   "id": "2425e4f9",
   "metadata": {},
   "outputs": [],
   "source": [
    "import numpy as np\n",
    "import pandas as pd\n",
    "\n",
    "import matplotlib.pyplot as plt\n",
    "import seaborn as sns\n",
    "\n",
    "from sklearn.model_selection import train_test_split\n",
    "from sklearn.ensemble import RandomForestClassifier\n",
    "from sklearn.svm import SVC\n",
    "from sklearn.linear_model import LogisticRegression\n",
    "\n",
    "from sklearn.metrics import accuracy_score"
   ]
  },
  {
   "cell_type": "code",
   "execution_count": null,
   "id": "adc6a484",
   "metadata": {},
   "outputs": [],
   "source": [
    "df = pd.read_csv('anemia.csv')"
   ]
  },
  {
   "cell_type": "code",
   "execution_count": null,
   "id": "24ad7673",
   "metadata": {},
   "outputs": [],
   "source": [
    "df.shape"
   ]
  },
  {
   "cell_type": "code",
   "execution_count": null,
   "id": "f5ec7d31",
   "metadata": {},
   "outputs": [],
   "source": [
    "df.head()"
   ]
  },
  {
   "cell_type": "code",
   "execution_count": null,
   "id": "05f89e6f",
   "metadata": {},
   "outputs": [],
   "source": [
    "df.describe()"
   ]
  },
  {
   "cell_type": "code",
   "execution_count": null,
   "id": "72e8349a",
   "metadata": {},
   "outputs": [],
   "source": [
    "df.info()"
   ]
  },
  {
   "cell_type": "markdown",
   "id": "b01b7bed",
   "metadata": {},
   "source": [
    "# Data splitting"
   ]
  },
  {
   "cell_type": "code",
   "execution_count": null,
   "id": "0ec5118f",
   "metadata": {},
   "outputs": [],
   "source": [
    "x=df[['Gender','Hemoglobin','MCH','MCHC','MCV']]\n",
    "y=df[['Result']]"
   ]
  },
  {
   "cell_type": "code",
   "execution_count": null,
   "id": "c1ad64c8",
   "metadata": {},
   "outputs": [],
   "source": [
    "x.shape"
   ]
  },
  {
   "cell_type": "code",
   "execution_count": null,
   "id": "8dfba08f",
   "metadata": {},
   "outputs": [],
   "source": [
    "y.shape"
   ]
  },
  {
   "cell_type": "code",
   "execution_count": null,
   "id": "aafeba8a",
   "metadata": {},
   "outputs": [],
   "source": [
    "x_train,x_test,y_train,y_test = train_test_split(x,y,test_size=0.2, random_state=42)"
   ]
  },
  {
   "cell_type": "markdown",
   "id": "17851d68",
   "metadata": {},
   "source": [
    "# Model selection"
   ]
  },
  {
   "cell_type": "code",
   "execution_count": null,
   "id": "288dc7ba",
   "metadata": {},
   "outputs": [],
   "source": [
    "rf=RandomForestClassifier()\n",
    "lr=LogisticRegression()"
   ]
  },
  {
   "cell_type": "code",
   "execution_count": null,
   "id": "4ed6327d",
   "metadata": {},
   "outputs": [],
   "source": [
    "rf.fit(x_train,y_train)\n",
    "y_pred=rf.predict(x_test)\n",
    "accuracy_score(y_test,y_pred)"
   ]
  },
  {
   "cell_type": "code",
   "execution_count": null,
   "id": "dafc2c5a",
   "metadata": {},
   "outputs": [],
   "source": [
    "lr.fit(x_train,y_train)\n",
    "y_pred = lr.predict(x_test)\n",
    "accuracy_score(y_test,y_pred)"
   ]
  },
  {
   "cell_type": "code",
   "execution_count": null,
   "id": "3a7d00aa",
   "metadata": {},
   "outputs": [],
   "source": [
    "from sklearn.model_selection import cross_val_score\n",
    "np.mean(cross_val_score(LogisticRegression(),x,y,cv=10,scoring=\"accuracy\"))"
   ]
  },
  {
   "cell_type": "markdown",
   "id": "c78ef6bb",
   "metadata": {},
   "source": [
    "# Grid SearchCV"
   ]
  },
  {
   "cell_type": "code",
   "execution_count": null,
   "id": "059eeedb",
   "metadata": {},
   "outputs": [],
   "source": [
    "param_grid = [\n",
    "    {'penalty':['l1','l2','elasticnet','none'],\n",
    "    'C' : np.logspace(-4,4,10)}\n",
    "]"
   ]
  },
  {
   "cell_type": "code",
   "execution_count": null,
   "id": "577cd2cf",
   "metadata": {},
   "outputs": [],
   "source": [
    "from sklearn.model_selection import GridSearchCV\n",
    "clf = GridSearchCV(lr,param_grid = param_grid, cv = 3, verbose=True,n_jobs=-1)\n",
    "clf"
   ]
  },
  {
   "cell_type": "code",
   "execution_count": null,
   "id": "1fc9ff83",
   "metadata": {},
   "outputs": [],
   "source": [
    "best_clf = clf.fit(x,y)\n"
   ]
  },
  {
   "cell_type": "code",
   "execution_count": null,
   "id": "c034c270",
   "metadata": {},
   "outputs": [],
   "source": [
    "best_clf.best_estimator_"
   ]
  },
  {
   "cell_type": "code",
   "execution_count": null,
   "id": "aaaee71c",
   "metadata": {},
   "outputs": [],
   "source": [
    "best_clf.best_score_"
   ]
  },
  {
   "cell_type": "markdown",
   "id": "bd999450",
   "metadata": {},
   "source": [
    "# Monte Carlo Simulation"
   ]
  },
  {
   "cell_type": "code",
   "execution_count": null,
   "id": "fa990cc8",
   "metadata": {},
   "outputs": [],
   "source": [
    "mean_hemo = x[\"Hemoglobin\"].mean()\n",
    "std_hemo = x[\"Hemoglobin\"].std()\n",
    "\n",
    "mean_mch = x[\"MCH\"].mean()\n",
    "std_mch = x[\"MCH\"].std()\n",
    "\n",
    "mean_mchc = x[\"MCHC\"].mean()\n",
    "std_mchc = x[\"MCHC\"].std()\n",
    "\n",
    "mean_mcv = x[\"MCV\"].mean()\n",
    "std_mcv = x[\"MCV\"].std()\n",
    "               "
   ]
  },
  {
   "cell_type": "code",
   "execution_count": null,
   "id": "44eb08bb",
   "metadata": {},
   "outputs": [],
   "source": [
    "num_simulations = 10000"
   ]
  },
  {
   "cell_type": "code",
   "execution_count": null,
   "id": "bd128f55",
   "metadata": {},
   "outputs": [],
   "source": [
    "simulated_gender = np.random.randint(2, size=num_simulations)\n",
    "simulated_hemo= np.random.normal(mean_hemo, std_hemo, num_simulations)\n",
    "simulated_mch = np.random.normal(mean_mch, std_mch, num_simulations)\n",
    "simulated_mchc = np.random.normal(mean_mchc, std_mchc, num_simulations)\n",
    "simulated_mcv = np.random.normal(mean_mcv, std_mcv,num_simulations)\n"
   ]
  },
  {
   "cell_type": "code",
   "execution_count": null,
   "id": "7432956d",
   "metadata": {},
   "outputs": [],
   "source": [
    "x_simulated = np.column_stack([simulated_gender,simulated_hemo,simulated_mch,simulated_mchc,\n",
    "                               simulated_mcv])"
   ]
  },
  {
   "cell_type": "code",
   "execution_count": null,
   "id": "a48a99ae",
   "metadata": {},
   "outputs": [],
   "source": [
    "score_predictions = lr.predict(x_simulated)"
   ]
  },
  {
   "cell_type": "code",
   "execution_count": null,
   "id": "be8a79e2",
   "metadata": {},
   "outputs": [],
   "source": [
    "score_predictions"
   ]
  },
  {
   "cell_type": "code",
   "execution_count": null,
   "id": "c7c1ce5d",
   "metadata": {},
   "outputs": [],
   "source": [
    "count_ones = np.count_nonzero(score_predictions == 1)\n",
    "count_ones\n"
   ]
  },
  {
   "cell_type": "code",
   "execution_count": null,
   "id": "ecbcfb81",
   "metadata": {},
   "outputs": [],
   "source": [
    "percentage=count_ones/num_simulations\n",
    "percentage"
   ]
  },
  {
   "cell_type": "code",
   "execution_count": null,
   "id": "2c11f11a",
   "metadata": {},
   "outputs": [],
   "source": [
    "from sklearn.model_selection import cross_val_score\n",
    "np.mean(cross_val_score(LogisticRegression(C=0.0001, penalty='none'),x,y,cv=10,scoring=\"accuracy\"))"
   ]
  },
  {
   "cell_type": "code",
   "execution_count": null,
   "id": "59109afc",
   "metadata": {},
   "outputs": [],
   "source": []
  },
  {
   "cell_type": "code",
   "execution_count": null,
   "id": "5458e39d",
   "metadata": {},
   "outputs": [],
   "source": []
  }
 ],
 "metadata": {
  "kernelspec": {
   "display_name": "Python 3",
   "language": "python",
   "name": "python3"
  },
  "language_info": {
   "codemirror_mode": {
    "name": "ipython",
    "version": 3
   },
   "file_extension": ".py",
   "mimetype": "text/x-python",
   "name": "python",
   "nbconvert_exporter": "python",
   "pygments_lexer": "ipython3",
   "version": "3.10.12"
  }
 },
 "nbformat": 4,
 "nbformat_minor": 5
}
